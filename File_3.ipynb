{
 "cells": [
  {
   "cell_type": "code",
   "execution_count": 1,
   "id": "7ee9fac0",
   "metadata": {},
   "outputs": [
    {
     "name": "stdout",
     "output_type": "stream",
     "text": [
      "Python:Exercises,:PHP:exercises.\n"
     ]
    }
   ],
   "source": [
    "def replace_characters(text):\n",
    "    replace_chars = [' ', ',', '.']\n",
    "    for char in replace_chars:\n",
    "        text = text.replace(char, ':')\n",
    "        return text\n",
    "sample_text = 'Python Exercises, PHP exercises.'\n",
    "output = replace_characters(sample_text)\n",
    "print(output)"
   ]
  },
  {
   "cell_type": "code",
   "execution_count": 2,
   "id": "a9e6eb22",
   "metadata": {},
   "outputs": [
    {
     "name": "stdout",
     "output_type": "stream",
     "text": [
      "apples\n",
      "and\n",
      "enjoy\n",
      "as\n",
      "Embrace\n",
      "an\n",
      "egg\n"
     ]
    }
   ],
   "source": [
    "import re\n",
    "def extract_a_e_words(input_text):\n",
    "    matched_words = re.findall(r'\\b[aeAE]\\w+\\b', input_text)\n",
    "    return matched_words\n",
    "given_text = \"Opt for apples and enjoy bananas as part of a nourishing diet. Embrace the habit of consuming an egg daily for its benefits.\"\n",
    "result_words = extract_a_e_words(given_text)\n",
    "for word in result_words:\n",
    "    print(word)"
   ]
  },
  {
   "cell_type": "code",
   "execution_count": 3,
   "id": "7dabdf9e",
   "metadata": {},
   "outputs": [
    {
     "name": "stdout",
     "output_type": "stream",
     "text": [
      "Detected lengthy words:\n",
      "illustration\n",
      "this\n",
      "example\n",
      "passage\n",
      "containing\n",
      "lengthy\n",
      "words\n",
      "such\n",
      "computer\n",
      "demonstrate\n",
      "investigation\n"
     ]
    }
   ],
   "source": [
    "import re\n",
    "def extract_long_words(input_text):\n",
    "    word_pattern = re.compile(r'\\b\\w{4,}\\b')\n",
    "    found_long_words = word_pattern.findall(input_text)\n",
    "    return found_long_words\n",
    "given_text = \"An illustration: this is an example passage containing lengthy words such as computer, demonstrate, and investigation.\"\n",
    "long_words = extract_long_words(given_text)\n",
    "print(\"Detected lengthy words:\")\n",
    "for word in long_words:\n",
    "    print(word)"
   ]
  },
  {
   "cell_type": "code",
   "execution_count": 4,
   "id": "fe5eb4c5",
   "metadata": {},
   "outputs": [
    {
     "name": "stdout",
     "output_type": "stream",
     "text": [
      "Words with lengths between three and five characters:\n",
      "The\n",
      "words\n",
      "brief\n",
      "and\n",
      "ones\n"
     ]
    }
   ],
   "source": [
    "import re\n",
    "def extract_range_length_words(input_text):\n",
    "    word_pattern = re.compile(r'\\b\\w{3,5}\\b')\n",
    "    found_range_length_words = word_pattern.findall(input_text)\n",
    "    return found_range_length_words\n",
    "given_text = \"The provided content contains words of varying lengths, including brief and extensive ones.\"\n",
    "range_length_words = extract_range_length_words(given_text)\n",
    "print(\"Words with lengths between three and five characters:\")\n",
    "for word in range_length_words:\n",
    "    print(word)"
   ]
  },
  {
   "cell_type": "code",
   "execution_count": 6,
   "id": "741fc292",
   "metadata": {},
   "outputs": [
    {
     "name": "stdout",
     "output_type": "stream",
     "text": [
      "example .com\n",
      "hr@fliprobo .com\n",
      "github .com\n",
      "Hello Data Science World\n",
      "Data Scientist\n"
     ]
    }
   ],
   "source": [
    "import re\n",
    "\n",
    "def remove_brackets(texts):\n",
    "    result = []\n",
    "    ptrn = re.compile(r'\\((.*?)\\)')  \n",
    "    \n",
    "    for t in texts:\n",
    "        mod_text = re.sub(ptrn, r'\\1', t)  \n",
    "        result.append(mod_text)\n",
    "    \n",
    "    return result\n",
    "\n",
    "input_texts = [\"example (.com)\", \"hr@fliprobo (.com)\", \"github (.com)\", \"Hello (Data Science World)\", \"Data (Scientist)\"]\n",
    "\n",
    "output_texts = remove_brackets(input_texts)\n",
    "for t in output_texts:\n",
    "    print(t)"
   ]
  },
  {
   "cell_type": "code",
   "execution_count": 7,
   "id": "15c2a05e",
   "metadata": {},
   "outputs": [
    {
     "name": "stdout",
     "output_type": "stream",
     "text": [
      "Processing complete. Output saved to 'output.txt'.\n"
     ]
    }
   ],
   "source": [
    "import re\n",
    "def remove_parentheses(text):\n",
    "    pattern = re.compile(r'\\([^)]*\\)')\n",
    "    result = pattern.sub('', text)\n",
    "    return result.strip()\n",
    "file_path = 'input.txt'\n",
    "output_lines = []\n",
    "with open(file_path, 'r') as file:\n",
    "    lines = file.readlines()\n",
    "    for line in lines:\n",
    "        modified_line = remove_parentheses(line)\n",
    "        output_lines.append(modified_line)\n",
    "output_file_path = 'output.txt'\n",
    "with open(output_file_path, 'w') as output_file:\n",
    "    for line in output_lines:\n",
    "        output_file.write(line + '\\n')\n",
    "print(\"Processing complete. Output saved to 'output.txt'.\")"
   ]
  },
  {
   "cell_type": "code",
   "execution_count": 8,
   "id": "d2c21243",
   "metadata": {},
   "outputs": [
    {
     "name": "stdout",
     "output_type": "stream",
     "text": [
      "['Importance', 'Of', 'Regular', 'Expressions', 'In', 'Python']\n"
     ]
    }
   ],
   "source": [
    "import re\n",
    "sample_text = \"ImportanceOfRegularExpressionsInPython\"\n",
    "result = re.findall('[A-Z][^A-Z]*', sample_text)\n",
    "print(result)"
   ]
  },
  {
   "cell_type": "code",
   "execution_count": 9,
   "id": "7fcb5734",
   "metadata": {},
   "outputs": [
    {
     "name": "stdout",
     "output_type": "stream",
     "text": [
      "RegularExpression 1IsAn 2ImportantTopic 3InPython\n"
     ]
    }
   ],
   "source": [
    "import re\n",
    "def insert_spaces(text):\n",
    "    processed_text = re.sub(r'(\\d)([A-Za-z])', r' \\1\\2', text)\n",
    "    return processed_text\n",
    "sample_text = \"RegularExpression1IsAn2ImportantTopic3InPython\"\n",
    "output = insert_spaces(sample_text)\n",
    "print(output)"
   ]
  },
  {
   "cell_type": "code",
   "execution_count": 10,
   "id": "74c71bdc",
   "metadata": {},
   "outputs": [
    {
     "name": "stdout",
     "output_type": "stream",
     "text": [
      "RegularExpression 1 IsAn 2 ImportantTopic 3 InPython\n"
     ]
    }
   ],
   "source": [
    "import re\n",
    "\n",
    "def insert_spaces(text):\n",
    "    processed_text = re.sub(r'(\\d)([A-Za-z])', r' \\1 \\2', text)\n",
    "    return processed_text\n",
    "sample_text = \"RegularExpression1IsAn2ImportantTopic3InPython\"\n",
    "output = insert_spaces(sample_text)\n",
    "print(output)"
   ]
  },
  {
   "cell_type": "code",
   "execution_count": 11,
   "id": "0066c371",
   "metadata": {},
   "outputs": [
    {
     "name": "stdout",
     "output_type": "stream",
     "text": [
      "['xyz@domain.com', 'xyz.abc@sdomain.domain.com']\n",
      "['hr@fliprobo.com']\n"
     ]
    }
   ],
   "source": [
    "import re\n",
    "\n",
    "def extract_emails(text):\n",
    "    pattern = r'\\b[A-Za-z0-9._%+-]+@[A-Za-z0-9.-]+\\.[A-Z|a-z]{2,7}\\b'\n",
    "    emails = re.findall(pattern, text)\n",
    "    return emails\n",
    "\n",
    "input_file_path = 'input2.txt'\n",
    "with open(input_file_path, 'r') as input_file:\n",
    "    content = input_file.read()\n",
    "    email_list = extract_emails(content)\n",
    "grouped_emails = []\n",
    "current_group = []\n",
    "\n",
    "for email in email_list:\n",
    "    if email.startswith(\"hr@fliprobo.com\"):\n",
    "        if current_group:\n",
    "            grouped_emails.append(current_group)\n",
    "        current_group = [email]\n",
    "    else:\n",
    "        current_group.append(email)\n",
    "grouped_emails.append(current_group)\n",
    "for group in grouped_emails:\n",
    "    print(group)"
   ]
  },
  {
   "cell_type": "code",
   "execution_count": 12,
   "id": "bf625f57",
   "metadata": {},
   "outputs": [
    {
     "name": "stdout",
     "output_type": "stream",
     "text": [
      "The stars say 'Movie_2023' is a valid incantation.\n",
      "The stars say 'Mystic_Encounter' is a valid incantation.\n",
      "The stars say 'Scarlett_witch42' is a valid incantation.\n",
      "The spirits decree 'Thor#hulk' to be an invalid enchantment.\n",
      "The spirits decree 'IronMan$' to be an invalid enchantment.\n",
      "The stars say '_Enchantress_' is a valid incantation.\n",
      "The stars say 'Moon_Night_' is a valid incantation.\n"
     ]
    }
   ],
   "source": [
    "import re\n",
    "\n",
    "def secret_string_check(s):\n",
    "    magic_pattern = r'^[a-zA-Z0-9_]*$'\n",
    "    magic_spell = re.compile(magic_pattern)\n",
    "    return bool(magic_spell.match(s))\n",
    "strings_to_test = [\n",
    "    \"Movie_2023\",\n",
    "    \"Mystic_Encounter\",\n",
    "    \"Scarlett_witch42\",\n",
    "    \"Thor#hulk\",\n",
    "    \"IronMan$\",\n",
    "    \"_Enchantress_\",\n",
    "    \"Moon_Night_\",\n",
    "]\n",
    "\n",
    "for string in strings_to_test:\n",
    "    if secret_string_check(string):\n",
    "        print(f\"The stars say '{string}' is a valid incantation.\")\n",
    "    else:\n",
    "        print(f\"The spirits decree '{string}' to be an invalid enchantment.\")"
   ]
  },
  {
   "cell_type": "code",
   "execution_count": 13,
   "id": "3f80b865",
   "metadata": {},
   "outputs": [
    {
     "name": "stdout",
     "output_type": "stream",
     "text": [
      "'100Hello' starts with 100.\n",
      "'786World' does not start with 100.\n",
      "'7999Python' does not start with 100.\n",
      "'Hello100' does not start with 100.\n"
     ]
    }
   ],
   "source": [
    "def starts_with_number(input_string, number):\n",
    "    return input_string.startswith(str(number))\n",
    "\n",
    "test_strings = [\"100Hello\", \"786World\", \"7999Python\", \"Hello100\"]\n",
    "specific_number = 100\n",
    "\n",
    "for test_string in test_strings:\n",
    "    result = starts_with_number(test_string, specific_number)\n",
    "    print(f\"'{test_string}' {'starts' if result else 'does not start'} with {specific_number}.\")\n",
    "\n"
   ]
  },
  {
   "cell_type": "code",
   "execution_count": 14,
   "id": "9b219514",
   "metadata": {},
   "outputs": [
    {
     "name": "stdout",
     "output_type": "stream",
     "text": [
      "Original IP: 134.453.001.001 | Stripped IP: 134.453.1.1\n",
      "Original IP: 010.020.030.040 | Stripped IP: 10.20.30.40\n",
      "Original IP: 000.001.002.003 | Stripped IP: .1.2.3\n",
      "Original IP: 123.045.006.007 | Stripped IP: 123.45.6.7\n"
     ]
    }
   ],
   "source": [
    "def remove_leading_zeros(ip_address):\n",
    "    parts = ip_address.split('.')\n",
    "    stripped_parts = [part.lstrip('0') if part != '0' else part for part in parts]\n",
    "    return '.'.join(stripped_parts)\n",
    "\n",
    "ip_addresses = [\"134.453.001.001\", \"010.020.030.040\", \"000.001.002.003\", \"123.045.006.007\"]\n",
    "\n",
    "for ip in ip_addresses:\n",
    "    stripped_ip = remove_leading_zeros(ip)\n",
    "    print(f\"Original IP: {ip} | Stripped IP: {stripped_ip}\")\n"
   ]
  },
  {
   "cell_type": "code",
   "execution_count": 15,
   "id": "88d549f9",
   "metadata": {},
   "outputs": [
    {
     "name": "stdout",
     "output_type": "stream",
     "text": [
      "August 15th 1947\n"
     ]
    }
   ],
   "source": [
    "import re\n",
    "\n",
    "def extract_dates(text):\n",
    "    pattern = r'\\b(?:January|February|March|April|May|June|July|August|September|October|November|December)\\s+\\d{1,2}(?:st|nd|rd|th)?\\s+\\d{4}\\b'\n",
    "    dates = re.findall(pattern, text)\n",
    "    return dates\n",
    "\n",
    "input_file_path = 'input3.txt'\n",
    "\n",
    "with open(input_file_path, 'r') as input_file:\n",
    "    content = input_file.read()\n",
    "    date_list = extract_dates(content)\n",
    "\n",
    "for date in date_list:\n",
    "    print(date)"
   ]
  },
  {
   "cell_type": "code",
   "execution_count": 16,
   "id": "6bf5168a",
   "metadata": {},
   "outputs": [
    {
     "name": "stdout",
     "output_type": "stream",
     "text": [
      "'fox' found in the text.\n",
      "'dog' found in the text.\n",
      "'horse' not found in the text.\n"
     ]
    }
   ],
   "source": [
    "def search_words(text, words):\n",
    "    found_words = [word for word in words if word in text]\n",
    "    return found_words\n",
    "\n",
    "sample_text = 'The quick brown fox jumps over the lazy dog.'\n",
    "searched_words = ['fox', 'dog', 'horse']\n",
    "\n",
    "found_words = search_words(sample_text, searched_words)\n",
    "\n",
    "for word in searched_words:\n",
    "    if word in found_words:\n",
    "        print(f\"'{word}' found in the text.\")\n",
    "    else:\n",
    "        print(f\"'{word}' not found in the text.\")"
   ]
  },
  {
   "cell_type": "code",
   "execution_count": 17,
   "id": "471d795c",
   "metadata": {},
   "outputs": [
    {
     "name": "stdout",
     "output_type": "stream",
     "text": [
      "'fox' found at positions: [16]\n"
     ]
    }
   ],
   "source": [
    "def search_and_locate(substring, full_string):\n",
    "    index_list = []\n",
    "    start = 0\n",
    "    \n",
    "    while start < len(full_string):\n",
    "        pos = full_string.find(substring, start)\n",
    "        if pos == -1:\n",
    "            break\n",
    "        index_list.append(pos)\n",
    "        start = pos + 1\n",
    "    \n",
    "    return index_list\n",
    "\n",
    "main_text = \"The quick brown fox jumps over the lazy dog.\"\n",
    "search_word = \"fox\"\n",
    "\n",
    "positions = search_and_locate(search_word, main_text)\n",
    "\n",
    "if positions:\n",
    "    print(f\"'{search_word}' found at positions:\", positions)\n",
    "else:\n",
    "    print(f\"'{search_word}' not found in the text.\")"
   ]
  },
  {
   "cell_type": "code",
   "execution_count": 18,
   "id": "71f265de",
   "metadata": {},
   "outputs": [
    {
     "name": "stdout",
     "output_type": "stream",
     "text": [
      "Substrings found:\n",
      "exercises\n",
      "exercises\n",
      "exercises\n"
     ]
    }
   ],
   "source": [
    "import re\n",
    "\n",
    "def find_substrings(text, pattern):\n",
    "    matches = re.finditer(pattern, text)\n",
    "    substrings = [match.group() for match in matches]\n",
    "    return substrings\n",
    "\n",
    "sample_text = 'Python exercises, PHP exercises, C# exercises'\n",
    "search_pattern = 'exercises'\n",
    "\n",
    "substrings = find_substrings(sample_text, search_pattern)\n",
    "print(\"Substrings found:\")\n",
    "for substring in substrings:\n",
    "    print(substring)"
   ]
  },
  {
   "cell_type": "code",
   "execution_count": 19,
   "id": "afc7d845",
   "metadata": {},
   "outputs": [
    {
     "name": "stdout",
     "output_type": "stream",
     "text": [
      "Substring 'Hello' occurs 3 times at positions:\n",
      "Occurrence 1: Position 0\n",
      "Occurrence 2: Position 20\n",
      "Occurrence 3: Position 47\n"
     ]
    }
   ],
   "source": [
    "def find_substring_occurrences(main_string, substring):\n",
    "    occurrences = []\n",
    "    start = 0\n",
    "    \n",
    "    while start < len(main_string):\n",
    "        pos = main_string.find(substring, start)\n",
    "        if pos == -1:\n",
    "            break\n",
    "        occurrences.append(pos)\n",
    "        start = pos + 1\n",
    "    \n",
    "    return occurrences\n",
    "\n",
    "def main():\n",
    "    main_string = \"Hello, how are you? Hello, are you doing well? Hello!\"\n",
    "    substring = \"Hello\"\n",
    "    \n",
    "    occurrences = find_substring_occurrences(main_string, substring)\n",
    "    \n",
    "    if occurrences:\n",
    "        print(f\"Substring '{substring}' occurs {len(occurrences)} times at positions:\")\n",
    "        for index, pos in enumerate(occurrences, start=1):\n",
    "            print(f\"Occurrence {index}: Position {pos}\")\n",
    "    else:\n",
    "        print(\"Substring not found in the main string.\")\n",
    "    \n",
    "if __name__ == \"__main__\":\n",
    "    main()\n"
   ]
  },
  {
   "cell_type": "code",
   "execution_count": 21,
   "id": "ba208d6b",
   "metadata": {},
   "outputs": [
    {
     "name": "stdout",
     "output_type": "stream",
     "text": [
      "Original date: 2023-08-25\n",
      "Converted date: 25-08-2023\n"
     ]
    }
   ],
   "source": [
    "def convert_date_format(date_string):\n",
    "   \n",
    "    year, month, day = date_string.split('-')\n",
    "    \n",
    "    new_date_string = f\"{day}-{month}-{year}\"\n",
    "    \n",
    "    return new_date_string\n",
    "\n",
    "def main():\n",
    "    input_date = \"2023-08-25\"\n",
    "    converted_date = convert_date_format(input_date)\n",
    "    print(f\"Original date: {input_date}\")\n",
    "    print(f\"Converted date: {converted_date}\")\n",
    "\n",
    "if __name__ == \"__main__\":\n",
    "    main()"
   ]
  },
  {
   "cell_type": "code",
   "execution_count": 22,
   "id": "6f378f03",
   "metadata": {},
   "outputs": [
    {
     "name": "stdout",
     "output_type": "stream",
     "text": [
      "Expected Output: ['01.12', '145.8', '3.01', '27.25', '0.25']\n"
     ]
    }
   ],
   "source": [
    "import re\n",
    "\n",
    "def find_decimal_numbers(text):\n",
    "    pattern = re.compile(r'\\b\\d+\\.\\d{1,2}\\b')\n",
    "    decimal_numbers = pattern.findall(text)\n",
    "    return decimal_numbers\n",
    "\n",
    "def main():\n",
    "    sample_text = \"01.12 0132.123 2.31875 145.8 3.01 27.25 0.25\"\n",
    "    decimal_numbers = find_decimal_numbers(sample_text)\n",
    "    print(\"Expected Output:\", decimal_numbers)\n",
    "\n",
    "if __name__ == \"__main__\":\n",
    "    main()\n"
   ]
  },
  {
   "cell_type": "code",
   "execution_count": 23,
   "id": "b69dcdd0",
   "metadata": {},
   "outputs": [
    {
     "name": "stdout",
     "output_type": "stream",
     "text": [
      "Enter a string: 123hello456python789\n",
      "Numbers and their positions:\n",
      "Number: 1, Position: 0\n",
      "Number: 2, Position: 1\n",
      "Number: 3, Position: 2\n",
      "Number: 4, Position: 8\n",
      "Number: 5, Position: 9\n",
      "Number: 6, Position: 10\n",
      "Number: 7, Position: 17\n",
      "Number: 8, Position: 18\n",
      "Number: 9, Position: 19\n"
     ]
    }
   ],
   "source": [
    "def separate_numbers_with_positions(input_string):\n",
    "    numbers_with_positions = []\n",
    "    \n",
    "    for index, char in enumerate(input_string):\n",
    "        if char.isdigit():\n",
    "            numbers_with_positions.append((int(char), index))\n",
    "    \n",
    "    return numbers_with_positions\n",
    "\n",
    "def main():\n",
    "    input_string = input(\"Enter a string: \")\n",
    "    result = separate_numbers_with_positions(input_string)\n",
    "    \n",
    "    if result:\n",
    "        print(\"Numbers and their positions:\")\n",
    "        for num, position in result:\n",
    "            print(f\"Number: {num}, Position: {position}\")\n",
    "    else:\n",
    "        print(\"No numbers found in the input string.\")\n",
    "\n",
    "if __name__ == \"__main__\":\n",
    "    main()"
   ]
  },
  {
   "cell_type": "code",
   "execution_count": 24,
   "id": "cad30a0a",
   "metadata": {},
   "outputs": [
    {
     "name": "stdout",
     "output_type": "stream",
     "text": [
      "The maximum numeric value is: 950\n"
     ]
    }
   ],
   "source": [
    "import re\n",
    "\n",
    "def extract_maximum_numeric_value(input_string):\n",
    "    numbers = re.findall(r'\\d+', input_string)\n",
    "    \n",
    "    if numbers:\n",
    "        max_value = max(map(int, numbers))\n",
    "        return max_value\n",
    "    else:\n",
    "        return None\n",
    "\n",
    "def main():\n",
    "    input_string = 'My marks in each semester are: 947, 896, 926, 524, 734, 950, 642'\n",
    "    max_value = extract_maximum_numeric_value(input_string)\n",
    "    \n",
    "    if max_value is not None:\n",
    "        print(f\"The maximum numeric value is: {max_value}\")\n",
    "    else:\n",
    "        print(\"No numeric values found in the input string.\")\n",
    "\n",
    "if __name__ == \"__main__\":\n",
    "    main()"
   ]
  },
  {
   "cell_type": "code",
   "execution_count": 25,
   "id": "7e7f9014",
   "metadata": {},
   "outputs": [
    {
     "name": "stdout",
     "output_type": "stream",
     "text": [
      "Formatted Text: Regular Expression Is An Important Topic In Python\n"
     ]
    }
   ],
   "source": [
    "import re\n",
    "\n",
    "def insert_spaces_between_capital_words(input_string):\n",
    "    words = re.findall(r'[A-Z][a-z]*', input_string)\n",
    "    formatted_text = ' '.join(words)\n",
    "    return formatted_text\n",
    "\n",
    "def main():\n",
    "    input_string = \"RegularExpressionIsAnImportantTopicInPython\"\n",
    "    formatted_text = insert_spaces_between_capital_words(input_string)\n",
    "    print(\"Formatted Text:\", formatted_text)\n",
    "\n",
    "if __name__ == \"__main__\":\n",
    "    main()"
   ]
  },
  {
   "cell_type": "code",
   "execution_count": 26,
   "id": "4489671c",
   "metadata": {},
   "outputs": [
    {
     "name": "stdout",
     "output_type": "stream",
     "text": [
      "Found sequences:\n",
      "Hello\n",
      "World\n",
      "This\n",
      "Is\n",
      "Sequence\n",
      "Of\n",
      "Words\n"
     ]
    }
   ],
   "source": [
    "import re\n",
    "\n",
    "def find_sequences(input_string):\n",
    "    sequences = re.findall(r'[A-Z][a-z]+', input_string)\n",
    "    return sequences\n",
    "\n",
    "def main():\n",
    "    input_string = \"Hello World This Is A Sequence Of Words\"\n",
    "    sequences = find_sequences(input_string)\n",
    "    \n",
    "    if sequences:\n",
    "        print(\"Found sequences:\")\n",
    "        for seq in sequences:\n",
    "            print(seq)\n",
    "    else:\n",
    "        print(\"No sequences found.\")\n",
    "\n",
    "if __name__ == \"__main__\":\n",
    "    main()"
   ]
  },
  {
   "cell_type": "code",
   "execution_count": 27,
   "id": "e136a9a3",
   "metadata": {},
   "outputs": [
    {
     "name": "stdout",
     "output_type": "stream",
     "text": [
      "Hello hello world\n"
     ]
    }
   ],
   "source": [
    "def remove_continuous_d_words(sentence):\n",
    "    words = sentence.split()\n",
    "    modified_words = [words[0]]\n",
    "\n",
    "    for word in words[1:]:\n",
    "        if word != modified_words[-1]:\n",
    "            modified_words.append(word)\n",
    "\n",
    "    modified_sentence = ' '.join(modified_words)\n",
    "    return modified_sentence\n",
    "\n",
    "input_sentence = \"Hello hello world world\"\n",
    "\n",
    "output_sentence = remove_continuous_d_words(input_sentence)\n",
    "print(output_sentence)"
   ]
  },
  {
   "cell_type": "code",
   "execution_count": 28,
   "id": "cc7e9db6",
   "metadata": {},
   "outputs": [
    {
     "name": "stdout",
     "output_type": "stream",
     "text": [
      "Enter a string: shubham123\n",
      "Valid input: Ends with an alphanumeric character\n"
     ]
    }
   ],
   "source": [
    "import re\n",
    "\n",
    "def main():\n",
    "    \n",
    "    user_input = input(\"Enter a string: \")\n",
    " \n",
    "    pattern = r\".*[a-zA-Z0-9]$\"\n",
    "\n",
    "    if re.match(pattern, user_input):\n",
    "        print(\"Valid input: Ends with an alphanumeric character\")\n",
    "    else:\n",
    "        print(\"Invalid input: Does not end with an alphanumeric character\")\n",
    "\n",
    "if __name__ == \"__main__\":\n",
    "    main()"
   ]
  },
  {
   "cell_type": "code",
   "execution_count": 29,
   "id": "e55400dc",
   "metadata": {},
   "outputs": [
    {
     "name": "stdout",
     "output_type": "stream",
     "text": [
      "Extracted hashtags: ['#Doltiwal', '#xyzabc', '#Demonetization']\n"
     ]
    }
   ],
   "source": [
    "import re\n",
    "\n",
    "def extract_hashtags(text):\n",
    " \n",
    "    pattern = r'#\\w+'\n",
    "\n",
    "    hashtags = re.findall(pattern, text)\n",
    "    \n",
    "    return hashtags\n",
    "\n",
    "def main():\n",
    "    sample_text = \"\"\"RT @kapil_kausik: #Doltiwal I mean #xyzabc is \"hurt\" by #Demonetization as the same has rendered USELESS <ed><U+00A0><U+00BD><ed><U+00B1><U+0089> \"acquired funds\" No wo\"\"\"\n",
    "    \n",
    "    hashtags = extract_hashtags(sample_text)\n",
    "    \n",
    "    if hashtags:\n",
    "        print(\"Extracted hashtags:\", hashtags)\n",
    "    else:\n",
    "        print(\"No hashtags found in the text\")\n",
    "\n",
    "if __name__ == \"__main__\":\n",
    "    main()"
   ]
  },
  {
   "cell_type": "code",
   "execution_count": 30,
   "id": "cbe28d52",
   "metadata": {},
   "outputs": [
    {
     "name": "stdout",
     "output_type": "stream",
     "text": [
      "Cleaned text: @Jags123456 Bharat band on 28??<ed><ed>Those who  are protesting #demonetization  are all different party leaders\n"
     ]
    }
   ],
   "source": [
    "import re\n",
    "\n",
    "def remove_symbols(text):\n",
    "\n",
    "    pattern = r'<U\\+[0-9A-Fa-f]+>'\n",
    "\n",
    "    cleaned_text = re.sub(pattern, '', text)\n",
    "    \n",
    "    return cleaned_text\n",
    "\n",
    "def main():\n",
    "    sample_text = \"@Jags123456 Bharat band on 28??<ed><U+00A0><U+00BD><ed><U+00B8><U+0082>Those who  are protesting #demonetization  are all different party leaders\"\n",
    "    \n",
    "    cleaned_text = remove_symbols(sample_text)\n",
    "    \n",
    "    print(\"Cleaned text:\", cleaned_text)\n",
    "\n",
    "if __name__ == \"__main__\":\n",
    "    main()"
   ]
  },
  {
   "cell_type": "code",
   "execution_count": 31,
   "id": "dad4570c",
   "metadata": {},
   "outputs": [
    {
     "name": "stdout",
     "output_type": "stream",
     "text": [
      "12-09-1992\n",
      "15-12-1999\n"
     ]
    }
   ],
   "source": [
    "import re\n",
    "\n",
    "def extract_dates_from_file(file_path):\n",
    "    with open(file_path, 'r') as file:\n",
    "        content = file.read()\n",
    "        pattern = r'\\b\\d{2}-\\d{2}-\\d{4}\\b'\n",
    "        dates = re.findall(pattern, content)\n",
    "        return dates\n",
    "\n",
    "file_path = 'input4.txt'\n",
    "extracted_dates = extract_dates_from_file(file_path)\n",
    "\n",
    "for date in extracted_dates:\n",
    "    print(date)"
   ]
  },
  {
   "cell_type": "code",
   "execution_count": 32,
   "id": "23644a34",
   "metadata": {},
   "outputs": [
    {
     "name": "stdout",
     "output_type": "stream",
     "text": [
      " following example creates  ArrayList  a capacity   elements. 4 elements   added   ArrayList   ArrayList  trimmed accordingly.\n"
     ]
    }
   ],
   "source": [
    "import re\n",
    "\n",
    "def remove_words_of_length_between_2_and_4(text):\n",
    "    pattern = re.compile(r'\\b\\w{2,4}\\b')\n",
    "    result = pattern.sub('', text)\n",
    "    return result\n",
    "\n",
    "sample_text = \"The following example creates an ArrayList with a capacity of 50 elements. 4 elements are then added to the ArrayList and the ArrayList is trimmed accordingly.\"\n",
    "output = remove_words_of_length_between_2_and_4(sample_text)\n",
    "print(output)"
   ]
  },
  {
   "cell_type": "code",
   "execution_count": null,
   "id": "36a30860",
   "metadata": {},
   "outputs": [],
   "source": []
  }
 ],
 "metadata": {
  "kernelspec": {
   "display_name": "Python 3 (ipykernel)",
   "language": "python",
   "name": "python3"
  },
  "language_info": {
   "codemirror_mode": {
    "name": "ipython",
    "version": 3
   },
   "file_extension": ".py",
   "mimetype": "text/x-python",
   "name": "python",
   "nbconvert_exporter": "python",
   "pygments_lexer": "ipython3",
   "version": "3.9.13"
  }
 },
 "nbformat": 4,
 "nbformat_minor": 5
}
