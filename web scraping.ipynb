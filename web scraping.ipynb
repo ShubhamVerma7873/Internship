{
 "cells": [
  {
   "cell_type": "code",
   "execution_count": 1,
   "id": "8c189fa9",
   "metadata": {},
   "outputs": [
    {
     "name": "stdout",
     "output_type": "stream",
     "text": [
      "                          Header\n",
      "0                      Main Page\n",
      "1           Welcome to Wikipedia\n",
      "2  From today's featured article\n",
      "3               Did you know ...\n",
      "4                    In the news\n",
      "5                    On this day\n",
      "6       Today's featured picture\n",
      "7       Other areas of Wikipedia\n",
      "8    Wikipedia's sister projects\n",
      "9            Wikipedia languages\n"
     ]
    }
   ],
   "source": [
    "import requests\n",
    "from bs4 import BeautifulSoup\n",
    "import pandas as pd\n",
    "url = 'https://en.wikipedia.org/wiki/Main_Page'\n",
    "response = requests.get(url)\n",
    "if response.status_code == 200:\n",
    "    soup = BeautifulSoup(response.text, 'html.parser')\n",
    "    header_tags = soup.find_all(['h1', 'h2', 'h3', 'h4', 'h5', 'h6'])\n",
    "    header_text = [tag.text.strip() for tag in header_tags]\n",
    "    df = pd.DataFrame({'Header': header_text})\n",
    "    print(df)\n",
    "else:\n",
    "    print('Failed to retrieve the webpage.')"
   ]
  },
  {
   "cell_type": "code",
   "execution_count": 2,
   "id": "e141a9ba",
   "metadata": {},
   "outputs": [
    {
     "name": "stdout",
     "output_type": "stream",
     "text": [
      "                            Name   Term of Office\n",
      "0                     Start Date     Closing date\n",
      "1            Dr. Rajendra Prasad  26 January 1950\n",
      "2   Dr. Sarvepalli Radhakrishnan      13 May 1962\n",
      "3              Dr. Zakir Hussain      13 May 1967\n",
      "4        Varahagiri Venkata Giri       3 May 1969\n",
      "5        Varahagiri Venkata Giri   24 August 1969\n",
      "6           Fakhruddin Ali Ahmed   24 August 1974\n",
      "7           Neelam Sanjiva Reddy     25 July 1977\n",
      "8               Giani Zali Singh     25 July 1982\n",
      "9         Ramaswamy Venkataraman     25 July 1987\n",
      "10          Shankar Dayal Sharma     25 July 1992\n",
      "11      Kocheril Raman Narayanan     25 July 1997\n",
      "12        Dr. A.P.J. Abdul Kalam     25 July 2002\n",
      "13                Pratibha Patil     25 July 2007\n",
      "14              Pranab Mukherjee     25 July 2012\n",
      "15          Shri Ram Nath Kovind     25 July 2017\n",
      "16                Draupadi Murmu     21 July 2022\n"
     ]
    }
   ],
   "source": [
    "url = \"https://currentaffairs.adda247.com/list-of-presidents-of-india/\"\n",
    "response = requests.get(url)\n",
    "if response.status_code == 200:\n",
    "    soup = BeautifulSoup(response.text, 'html.parser')\n",
    "    table = soup.find('table')\n",
    "    names = []\n",
    "    terms_of_office = []\n",
    "    for row in table.find_all('tr')[1:]: \n",
    "        columns = row.find_all('td')\n",
    "        name = columns[0].text.strip()\n",
    "        term_of_office = columns[1].text.strip() \n",
    "        names.append(name)\n",
    "        terms_of_office.append(term_of_office)\n",
    "    df = pd.DataFrame({'Name': names, 'Term of Office': terms_of_office})\n",
    "    print(df)\n",
    "else:\n",
    "    print(\"Failed to retrieve the webpage. Status code:\", response.status_code)"
   ]
  },
  {
   "cell_type": "code",
   "execution_count": 3,
   "id": "d0c1a367",
   "metadata": {},
   "outputs": [
    {
     "name": "stdout",
     "output_type": "stream",
     "text": [
      "            Team  T  Matches  M  Points  P  Rating  R\n",
      "0     Pakistan  PAK          27       3102        115\n",
      "1        India  IND          41       4701        115\n",
      "2    Australia  AUS          28       3166        113\n",
      "3  South Africa  SA          24       2551        106\n",
      "4      England  ENG          28       2942        105\n",
      "5   New Zealand  NZ          31       3110        100\n",
      "6   Bangladesh  BAN          33       3107         94\n",
      "7     Sri Lanka  SL          38       3512         92\n",
      "8  Afghanistan  AFG          21       1687         80\n",
      "9   West Indies  WI          38       2582         68\n"
     ]
    }
   ],
   "source": [
    "url = 'https://www.icc-cricket.com/rankings/mens/team-rankings/odi'\n",
    "response = requests.get(url)\n",
    "if response.status_code == 200:\n",
    "    df = pd.read_html(response.text)[0]\n",
    "    top_10_teams = df.iloc[:10, [1, 2, 3, 4]]\n",
    "    print(top_10_teams)\n",
    "else:\n",
    "    print('Failed to retrieve the webpage.')"
   ]
  },
  {
   "cell_type": "code",
   "execution_count": 4,
   "id": "e634279b",
   "metadata": {},
   "outputs": [
    {
     "name": "stdout",
     "output_type": "stream",
     "text": [
      "                  Player Team  Rating\n",
      "0             Babar Azam  PAK     863\n",
      "1           Shubman Gill  IND     759\n",
      "2  Rassie van der Dussen   SA     745\n",
      "3           David Warner  AUS     739\n",
      "4            Imam-ul-Haq  PAK     735\n",
      "5           Harry Tector  IRE     726\n",
      "6        Quinton de Kock   SA     721\n",
      "7            Virat Kohli  IND     715\n",
      "8           Rohit Sharma  IND     707\n",
      "9           Fakhar Zaman  PAK     705\n"
     ]
    }
   ],
   "source": [
    "url = 'https://www.icc-cricket.com/rankings/mens/player-rankings/odi/batting'\n",
    "response = requests.get(url)\n",
    "if response.status_code == 200:\n",
    "    df = pd.read_html(response.text)[0]\n",
    "    top_10_batsmen = df.iloc[:10, [1, 2, 3]]\n",
    "    print(top_10_batsmen)\n",
    "else:\n",
    "    print('Failed to retrieve the webpage.')"
   ]
  },
  {
   "cell_type": "code",
   "execution_count": 5,
   "id": "a840e31f",
   "metadata": {},
   "outputs": [
    {
     "name": "stdout",
     "output_type": "stream",
     "text": [
      "             Player Team  Rating\n",
      "0    Josh Hazlewood  AUS     692\n",
      "1    Mitchell Starc  AUS     666\n",
      "2       Trent Boult   NZ     666\n",
      "3        Adam Zampa  AUS     663\n",
      "4        Matt Henry   NZ     658\n",
      "5  Mujeeb Ur Rahman  AFG     657\n",
      "6     Kuldeep Yadav  IND     656\n",
      "7       Rashid Khan  AFG     655\n",
      "8    Mohammed Siraj  IND     643\n",
      "9    Shaheen Afridi  PAK     635\n"
     ]
    }
   ],
   "source": [
    "url = 'https://www.icc-cricket.com/rankings/mens/player-rankings/odi/bowling'\n",
    "response = requests.get(url)\n",
    "if response.status_code == 200:\n",
    "    df = pd.read_html(response.text)[0]\n",
    "    top_10_bowlers = df.iloc[:10, [1, 2, 3]]\n",
    "    print(top_10_bowlers)\n",
    "else:\n",
    "    print('Failed to retrieve the webpage.')"
   ]
  },
  {
   "cell_type": "code",
   "execution_count": 6,
   "id": "b9b5150f",
   "metadata": {},
   "outputs": [
    {
     "name": "stdout",
     "output_type": "stream",
     "text": [
      "            Team  T  Matches  M  Points  P  Rating  R\n",
      "0    Australia  AUS          26       4290        165\n",
      "1      England  ENG          31       3875        125\n",
      "2  South Africa  SA          26       3098        119\n",
      "3        India  IND          30       3039        101\n",
      "4   New Zealand  NZ          28       2688         96\n",
      "5   West Indies  WI          29       2743         95\n",
      "6   Bangladesh  BAN          17       1284         76\n",
      "7     Sri Lanka  SL          12        820         68\n",
      "8     Thailand  THA          13        883         68\n",
      "9     Pakistan  PAK          27       1678         62\n"
     ]
    }
   ],
   "source": [
    "url = 'https://www.icc-cricket.com/rankings/womens/team-rankings/odi'\n",
    "response = requests.get(url)\n",
    "if response.status_code == 200:\n",
    "    df = pd.read_html(response.text)[0]\n",
    "    top_10_teams = df.iloc[:10, [1, 2, 3, 4]]\n",
    "    print(top_10_teams)\n",
    "else:\n",
    "    print('Failed to retrieve the webpage.')"
   ]
  },
  {
   "cell_type": "code",
   "execution_count": 7,
   "id": "c7bec633",
   "metadata": {},
   "outputs": [
    {
     "name": "stdout",
     "output_type": "stream",
     "text": [
      "                Player Team Rating\n",
      "0          Beth Mooney  AUS    751\n",
      "1  Chamari Athapaththu   SL    743\n",
      "2      Laura Wolvaardt   SA    708\n",
      "3      Smriti Mandhana  IND    708\n",
      "4         Alyssa Healy  AUS    702\n",
      "5     Harmanpreet Kaur  IND    694\n",
      "6         Ellyse Perry  AUS    686\n",
      "7          Meg Lanning  AUS    682\n",
      "8      Stafanie Taylor   WI    618\n",
      "9       Marizanne Kapp   SA    617\n"
     ]
    }
   ],
   "source": [
    "url = \"https://www.icc-cricket.com/rankings/womens/player-rankings/odi/batting\"\n",
    "response = requests.get(url)\n",
    "if response.status_code == 200:\n",
    "    soup = BeautifulSoup(response.text, 'html.parser')\n",
    "    players = []\n",
    "    teams = []\n",
    "    ratings = []\n",
    "    player_elements = soup.find_all('tr', class_='table-body')\n",
    "    for player_element in player_elements[:10]: \n",
    "        player = player_element.find('td', class_='table-body__cell rankings-table__name name').get_text(strip=True)\n",
    "        team = player_element.find('span', class_='table-body__logo-text').get_text(strip=True)\n",
    "        rating = player_element.find('td', class_='table-body__cell rating').get_text(strip=True)\n",
    "        players.append(player)\n",
    "        teams.append(team)\n",
    "        ratings.append(rating)\n",
    "    df = pd.DataFrame({\n",
    "        'Player': players,\n",
    "        'Team': teams,\n",
    "        'Rating': ratings\n",
    "    })\n",
    "    print(df)\n",
    "\n",
    "else:\n",
    "    print(\"Failed to retrieve the webpage.\")"
   ]
  },
  {
   "cell_type": "code",
   "execution_count": 8,
   "id": "a6c4a5d9",
   "metadata": {},
   "outputs": [
    {
     "name": "stdout",
     "output_type": "stream",
     "text": [
      "              Player Team Rating\n",
      "0   Ashleigh Gardner  AUS    389\n",
      "1    Hayley Matthews   WI    382\n",
      "2     Marizanne Kapp   SA    362\n",
      "3       Ellyse Perry  AUS    329\n",
      "4        Amelia Kerr   NZ    328\n",
      "5      Deepti Sharma  IND    312\n",
      "6      Jess Jonassen  AUS    241\n",
      "7      Sophie Devine   NZ    233\n",
      "8           Nida Dar  PAK    217\n",
      "9  Sophie Ecclestone  ENG    196\n"
     ]
    }
   ],
   "source": [
    "url = \"https://www.icc-cricket.com/rankings/womens/player-rankings/odi/all-rounder\"\n",
    "response = requests.get(url)\n",
    "if response.status_code == 200:\n",
    "    soup = BeautifulSoup(response.text, 'html.parser')\n",
    "    players = []\n",
    "    teams = []\n",
    "    ratings = []\n",
    "    player_elements = soup.find_all('tr', class_='table-body')\n",
    "    for player_element in player_elements[:10]:  \n",
    "        player = player_element.find('td', class_='table-body__cell rankings-table__name name').get_text(strip=True)\n",
    "        team = player_element.find('span', class_='table-body__logo-text').get_text(strip=True)\n",
    "        rating = player_element.find('td', class_='table-body__cell rating').get_text(strip=True)\n",
    "        players.append(player)\n",
    "        teams.append(team)\n",
    "        ratings.append(rating)\n",
    "    df = pd.DataFrame({\n",
    "        'Player': players,\n",
    "        'Team': teams,\n",
    "        'Rating': ratings\n",
    "    })\n",
    "    print(df)\n",
    "\n",
    "else:\n",
    "    print(\"Failed to retrieve the webpage.\")"
   ]
  },
  {
   "cell_type": "code",
   "execution_count": 9,
   "id": "e6593de8",
   "metadata": {},
   "outputs": [
    {
     "name": "stdout",
     "output_type": "stream",
     "text": [
      "             Headline\n",
      "0       Market MOVERS\n",
      "1         Most Active\n",
      "2      Unusual Volume\n",
      "3  Latest Market News\n",
      "4     Special Reports\n"
     ]
    }
   ],
   "source": [
    "url = \"https://www.cnbc.com/world/?region=world\"\n",
    "response = requests.get(url)\n",
    "soup = BeautifulSoup(response.text, \"html.parser\")\n",
    "\n",
    "headlines = []\n",
    "for headline in soup.find_all(\"h3\"):\n",
    "    headlines.append(headline.text.strip())\n",
    "\n",
    "df = pd.DataFrame({\"Headline\": headlines})\n",
    "print(df)\n"
   ]
  },
  {
   "cell_type": "code",
   "execution_count": 10,
   "id": "c8897b69",
   "metadata": {},
   "outputs": [
    {
     "name": "stdout",
     "output_type": "stream",
     "text": [
      "                  Time\n",
      "0           27 Min Ago\n",
      "1           1 Hour Ago\n",
      "2          3 Hours Ago\n",
      "3          4 Hours Ago\n",
      "4          4 Hours Ago\n",
      "5          5 Hours Ago\n",
      "6          5 Hours Ago\n",
      "7          5 Hours Ago\n",
      "8          5 Hours Ago\n",
      "9          6 Hours Ago\n",
      "10         6 Hours Ago\n",
      "11        23 Hours Ago\n",
      "12        23 Hours Ago\n",
      "13  September 16, 2023\n",
      "14  September 16, 2023\n",
      "15  September 16, 2023\n",
      "16  September 16, 2023\n",
      "17  September 16, 2023\n",
      "18  September 16, 2023\n",
      "19  September 16, 2023\n",
      "20  September 16, 2023\n",
      "21  September 16, 2023\n",
      "22  September 16, 2023\n",
      "23  September 16, 2023\n",
      "24  September 16, 2023\n",
      "25  September 15, 2023\n",
      "26  September 15, 2023\n",
      "27  September 15, 2023\n",
      "28  September 15, 2023\n",
      "29  September 15, 2023\n"
     ]
    }
   ],
   "source": [
    "url = \"https://www.cnbc.com/world/?region=world\"\n",
    "response = requests.get(url)\n",
    "soup = BeautifulSoup(response.text, \"html.parser\")\n",
    "\n",
    "times = []\n",
    "for time in soup.find_all(\"time\"):\n",
    "    times.append(time.text.strip())\n",
    "\n",
    "df = pd.DataFrame({\"Time\": times})\n",
    "print(df)"
   ]
  },
  {
   "cell_type": "code",
   "execution_count": 11,
   "id": "a1d93349",
   "metadata": {},
   "outputs": [
    {
     "name": "stdout",
     "output_type": "stream",
     "text": [
      "                                            News Link\n",
      "0   https://www.cnbc.com/2023/09/17/one-individual...\n",
      "1   https://www.cnbc.com/2023/09/16/stocks-churn-w...\n",
      "2   https://www.cnbc.com/2023/09/15/the-fed-is-exp...\n",
      "3   https://www.cnbc.com/2023/09/15/fortinet-and-m...\n",
      "4   https://www.cnbc.com/2023/09/17/chinas-ai-appl...\n",
      "5   https://www.cnbc.com/2023/09/17/buffett-calls-...\n",
      "6   https://www.cnbc.com/2023/09/17/one-individual...\n",
      "7   https://www.cnbc.com/2023/09/17/its-been-one-y...\n",
      "8   https://www.cnbc.com/2023/09/16/analysts-raisi...\n",
      "9   https://www.cnbc.com/2023/09/16/us-ambassador-...\n",
      "10  https://www.cnbc.com/2023/09/16/poland-hungary...\n",
      "11  https://www.cnbc.com/2023/09/15/spacex-starlin...\n",
      "12  https://www.cnbc.com/2023/09/15/live-updates-l...\n",
      "13  https://www.cnbc.com/2023/09/15/is-russia-a-ro...\n",
      "14  https://www.cnbc.com/2023/09/14/shipping-giant...\n",
      "15  https://www.cnbc.com/2023/09/08/climate-un-rep...\n",
      "16  https://www.cnbc.com/video/2023/09/14/countrie...\n",
      "17  https://www.cnbc.com/video/2023/09/14/we-have-...\n",
      "18  https://www.cnbc.com/video/2023/09/14/700-bill...\n",
      "19  https://www.cnbc.com/2023/09/13/thai-hospitali...\n",
      "20  https://www.cnbc.com/video/2023/09/11/middle-e...\n",
      "21  https://www.cnbc.com/2023/09/05/asean-at-a-los...\n",
      "22  https://www.cnbc.com/video/2023/09/11/yoma-str...\n",
      "23  https://www.cnbc.com/video/2023/09/04/philippi...\n",
      "24  https://www.cnbc.com/2023/09/15/digital-nomads...\n",
      "25  https://www.cnbc.com/2023/09/13/new-tax-to-vis...\n",
      "26  https://www.cnbc.com/video/2023/09/11/watch-a-...\n",
      "27  https://www.cnbc.com/2023/09/08/where-to-stay-...\n",
      "28  https://www.cnbc.com/2023/09/07/great-wall-of-...\n",
      "29  https://www.cnbc.com/2023/09/17/this-is-the-no...\n",
      "30  https://www.cnbc.com/2023/09/17/rachel-jimenez...\n",
      "31  https://www.cnbc.com/2023/09/17/these-are-the-...\n",
      "32  https://www.cnbc.com/2023/09/16/4-things-the-w...\n",
      "33  https://www.cnbc.com/2023/09/16/how-olipops-fo...\n"
     ]
    }
   ],
   "source": [
    "url = \"https://www.cnbc.com/world/?region=world\"\n",
    "response = requests.get(url)\n",
    "soup = BeautifulSoup(response.text, \"html.parser\")\n",
    "\n",
    "links = []\n",
    "for link in soup.find_all(\"a\", class_=\"Card-title\"):\n",
    "    news_link = link.get(\"href\")\n",
    "    if news_link and news_link.startswith(\"https://www.cnbc.com\"):\n",
    "        links.append(news_link)\n",
    "\n",
    "df = pd.DataFrame({\"News Link\": links})\n",
    "print(df)"
   ]
  },
  {
   "cell_type": "code",
   "execution_count": 12,
   "id": "07d7ab48",
   "metadata": {},
   "outputs": [
    {
     "name": "stdout",
     "output_type": "stream",
     "text": [
      "                                                Title         Author(s)  \\\n",
      "0                                   Da Vinci Code,The        Brown, Dan   \n",
      "1                Harry Potter and the Deathly Hallows     Rowling, J.K.   \n",
      "2            Harry Potter and the Philosopher's Stone     Rowling, J.K.   \n",
      "3           Harry Potter and the Order of the Phoenix     Rowling, J.K.   \n",
      "4                                Fifty Shades of Grey      James, E. L.   \n",
      "..                                                ...               ...   \n",
      "95                                          Ghost,The    Harris, Robert   \n",
      "96                     Happy Days with the Naked Chef     Oliver, Jamie   \n",
      "97              Hunger Games,The:Hunger Games Trilogy  Collins, Suzanne   \n",
      "98  Lost Boy,The:A Foster Child's Search for the L...      Pelzer, Dave   \n",
      "99  Jamie's Ministry of Food:Anyone Can Learn to C...     Oliver, Jamie   \n",
      "\n",
      "        Sales  \n",
      "0   5,094,805  \n",
      "1   4,475,152  \n",
      "2   4,200,654  \n",
      "3   4,179,479  \n",
      "4   3,758,936  \n",
      "..        ...  \n",
      "95    807,311  \n",
      "96    794,201  \n",
      "97    792,187  \n",
      "98    791,507  \n",
      "99    791,095  \n",
      "\n",
      "[100 rows x 3 columns]\n"
     ]
    }
   ],
   "source": [
    "url = \"https://www.theguardian.com/news/datablog/2012/aug/09/best-selling-books-all-time-fifty-shades-grey-compare\"\n",
    "response = requests.get(url)\n",
    "soup = BeautifulSoup(response.text, \"html.parser\")\n",
    "table = soup.find(\"table\")\n",
    "titles = []\n",
    "authors = []\n",
    "sales = []\n",
    "for row in table.find_all(\"tr\")[1:]:\n",
    "    columns = row.find_all(\"td\")\n",
    "    if len(columns) >= 4:\n",
    "        title = columns[1].text.strip()\n",
    "        titles.append(title)\n",
    "        author = columns[2].text.strip()\n",
    "        authors.append(author)\n",
    "        sale = columns[3].text.strip()\n",
    "        sales.append(sale)\n",
    "data = {\n",
    "    \"Title\": titles,\n",
    "    \"Author(s)\": authors,\n",
    "    \"Sales\": sales\n",
    "}\n",
    "df = pd.DataFrame(data)\n",
    "print(df)"
   ]
  },
  {
   "cell_type": "code",
   "execution_count": null,
   "id": "ed90cb59",
   "metadata": {},
   "outputs": [],
   "source": []
  }
 ],
 "metadata": {
  "kernelspec": {
   "display_name": "Python 3 (ipykernel)",
   "language": "python",
   "name": "python3"
  },
  "language_info": {
   "codemirror_mode": {
    "name": "ipython",
    "version": 3
   },
   "file_extension": ".py",
   "mimetype": "text/x-python",
   "name": "python",
   "nbconvert_exporter": "python",
   "pygments_lexer": "ipython3",
   "version": "3.9.13"
  }
 },
 "nbformat": 4,
 "nbformat_minor": 5
}
